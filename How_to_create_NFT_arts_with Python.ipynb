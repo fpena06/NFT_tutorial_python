{
  "nbformat": 4,
  "nbformat_minor": 0,
  "metadata": {
    "colab": {
      "name": "How to create NFT arts with Python.ipynb",
      "provenance": [],
      "mount_file_id": "1X7txLZtVxRwDhABD29nCS_2LiVBOig-K",
      "authorship_tag": "ABX9TyMqBYQIVc99UtNdfjIe5plh",
      "include_colab_link": true
    },
    "kernelspec": {
      "name": "python3",
      "display_name": "Python 3"
    },
    "language_info": {
      "name": "python"
    }
  },
  "cells": [
    {
      "cell_type": "markdown",
      "metadata": {
        "id": "view-in-github",
        "colab_type": "text"
      },
      "source": [
        "<a href=\"https://colab.research.google.com/github/jackty9/NFT_tutorial_python/blob/main/How_to_create_NFT_arts_with%C2%A0Python.ipynb\" target=\"_parent\"><img src=\"https://colab.research.google.com/assets/colab-badge.svg\" alt=\"Open In Colab\"/></a>"
      ]
    },
    {
      "cell_type": "markdown",
      "source": [
        "# How to create NFT arts with Python\n",
        "\n",
        "by [Jack Tan](https://github.com/jackty9/NFT_tutorial_python)\n",
        "\n",
        "*Last updated: Feb 13th, 2022*\n",
        "\n",
        "This notebook will let you create generative NFT images based on simple shapes found on [this Github repo](https://github.com/jackty9/NFT_tutorial_python/tree/main/nft_raw_images).\n",
        "\n",
        "A sample of generated NFT images with this notebook:\n",
        "#### <img src=\"https://drive.google.com/uc?export=view&id=1cKEkmPPhO7tgyG-PeK9G_CJG-5QCSbjA\" width=\"600\">\n",
        "\n",
        "\n",
        "To use this notebook just follow along with the instructions and run each cell as directed.\n",
        "\n",
        "---\n",
        "\n",
        "To read more about this notebook, please refer to this [Medium article](https://jackyeetan.medium.com/).\\\n",
        "This notebook is based on [nft-image-generator](https://github.com/benyaminahmed/nft-image-generator) by Benyamin Ahmed."
      ],
      "metadata": {
        "id": "JpdLlCbu4pfH"
      }
    },
    {
      "cell_type": "code",
      "execution_count": 1,
      "metadata": {
        "id": "EH0xJ-yrRyiw"
      },
      "outputs": [],
      "source": [
        "from PIL import Image \n",
        "from IPython.display import display \n",
        "import random\n",
        "import json"
      ]
    },
    {
      "cell_type": "code",
      "source": [
        "!rm -r /content/NFT_tutorial_python\n",
        "!git clone https://github.com/jackty9/NFT_tutorial_python.git"
      ],
      "metadata": {
        "colab": {
          "base_uri": "https://localhost:8080/"
        },
        "id": "M08lkUAq2yLG",
        "outputId": "040121bc-3416-4e21-90df-1900fca3aa3c"
      },
      "execution_count": 2,
      "outputs": [
        {
          "output_type": "stream",
          "name": "stdout",
          "text": [
            "rm: cannot remove '/content/NFT_tutorial_python': No such file or directory\n",
            "Cloning into 'NFT_tutorial_python'...\n",
            "remote: Enumerating objects: 67, done.\u001b[K\n",
            "remote: Counting objects: 100% (67/67), done.\u001b[K\n",
            "remote: Compressing objects: 100% (46/46), done.\u001b[K\n",
            "remote: Total 67 (delta 21), reused 63 (delta 20), pack-reused 0\u001b[K\n",
            "Unpacking objects: 100% (67/67), done.\n"
          ]
        }
      ]
    },
    {
      "cell_type": "code",
      "source": [
        "# Each image is made up a series of traits\n",
        "# The weitages for each trait distribute the rarity and add up to 100%\n",
        "\n",
        "background = [\"Silver\", \"Salmon\", \"Cantaloupe\", \"Mocha\", \"Teal\"] \n",
        "background_weights = [40, 30, 15, 10, 5]\n",
        "\n",
        "triangle = [\"Red\", \"Orange\", \"Yellow\", \"Green\", \"Blue\"] \n",
        "triangle_weights = [40, 30, 15, 10, 5]\n",
        "\n",
        "circle = [\"Red\", \"Orange\", \"Yellow\", \"Green\", \"Blue\"] \n",
        "circle_weights = [40, 30, 15, 10, 5]\n",
        "\n",
        "square = [\"Red\", \"Orange\", \"Yellow\", \"Green\", \"Blue\"] \n",
        "square_weights = [40, 30, 15, 10, 5]\n",
        "\n",
        "# Dictionary variable for each trait. \n",
        "# Each trait corresponds to its file name (in github)\n",
        "\n",
        "background_files = {\n",
        "    \"Silver\": \"background-silver\",\n",
        "    \"Salmon\": \"background-salmon\",\n",
        "    \"Cantaloupe\": \"background-cantaloupe\",\n",
        "    \"Teal\": \"background-teal\",\n",
        "    \"Mocha\": \"background-mocha\",\n",
        "}\n",
        "\n",
        "triangle_files = {\n",
        "    \"Red\": \"triangle-red\",\n",
        "    \"Orange\": \"triangle-orange\",\n",
        "    \"Yellow\": \"triangle-yellow\",\n",
        "    \"Green\": \"triangle-green\",\n",
        "    \"Blue\": \"triangle-blue\",\n",
        "}\n",
        "circle_files = {\n",
        "    \"Red\": \"circle-red\",\n",
        "    \"Orange\": \"circle-orange\",\n",
        "    \"Yellow\": \"circle-yellow\",\n",
        "    \"Green\": \"circle-green\",\n",
        "    \"Blue\": \"circle-blue\",\n",
        "}\n",
        "\n",
        "square_files = {\n",
        "    \"Red\": \"square-red\",\n",
        "    \"Orange\": \"square-orange\",\n",
        "    \"Yellow\": \"square-yellow\",\n",
        "    \"Green\": \"square-green\",\n",
        "    \"Blue\": \"square-blue\",\n",
        "          \n",
        "}"
      ],
      "metadata": {
        "id": "Jz_hWVm9dniu"
      },
      "execution_count": null,
      "outputs": []
    },
    {
      "cell_type": "code",
      "source": [
        "## Generate Traits\n",
        "\n",
        "# Number of random unique images to be generated\n",
        "TOTAL_IMAGES = 50\n",
        "\n",
        "all_images = [] \n",
        "\n",
        "# A recursive function to generate unique image combinations\n",
        "def create_new_image():\n",
        "    \n",
        "    new_image = {} #\n",
        "\n",
        "    # For each trait category, select a random trait based on the weightings \n",
        "    new_image [\"Background\"] = random.choices(background, background_weights)[0]\n",
        "    new_image [\"Triangle\"] = random.choices(triangle, circle_weights)[0]\n",
        "    new_image [\"Circle\"] = random.choices(circle, circle_weights)[0]\n",
        "    new_image [\"Square\"] = random.choices(square, square_weights)[0]\n",
        "    \n",
        "    if new_image in all_images:\n",
        "        return create_new_image()\n",
        "    else:\n",
        "        return new_image\n",
        "    \n",
        "    \n",
        "# Generate the unique combinations based on trait weightings\n",
        "for i in range(TOTAL_IMAGES): \n",
        "    \n",
        "    new_trait_image = create_new_image()\n",
        "    \n",
        "    all_images.append(new_trait_image)\n",
        "    \n"
      ],
      "metadata": {
        "id": "UKz6egaYdwLq"
      },
      "execution_count": null,
      "outputs": []
    },
    {
      "cell_type": "code",
      "source": [
        "# Returns true if all images are unique\n",
        "def all_images_unique(all_images):\n",
        "    seen = list()\n",
        "    return not any(i in seen or seen.append(i) for i in all_images)\n",
        "\n",
        "print(\"Are all images unique?\", all_images_unique(all_images))"
      ],
      "metadata": {
        "colab": {
          "base_uri": "https://localhost:8080/"
        },
        "id": "uxNx3Z7ad-rE",
        "outputId": "174f0fa1-88a3-48fd-cb7b-ff50919f6d56"
      },
      "execution_count": null,
      "outputs": [
        {
          "output_type": "stream",
          "name": "stdout",
          "text": [
            "Are all images unique? True\n"
          ]
        }
      ]
    },
    {
      "cell_type": "code",
      "source": [
        "# Add token Id to each image\n",
        "i = 0\n",
        "for item in all_images:\n",
        "    item[\"tokenId\"] = i\n",
        "    i = i + 1"
      ],
      "metadata": {
        "id": "Yx9GmGONeClk"
      },
      "execution_count": null,
      "outputs": []
    },
    {
      "cell_type": "code",
      "source": [
        "print(all_images)"
      ],
      "metadata": {
        "colab": {
          "base_uri": "https://localhost:8080/"
        },
        "id": "JWMBF0ko-2Kr",
        "outputId": "1f3345ed-fbf4-49e8-8d1d-7fde12f95240"
      },
      "execution_count": null,
      "outputs": [
        {
          "output_type": "stream",
          "name": "stdout",
          "text": [
            "[{'Background': 'Silver', 'Triangle': 'Orange', 'Circle': 'Orange', 'Square': 'Red', 'tokenId': 0}, {'Background': 'Silver', 'Triangle': 'Orange', 'Circle': 'Green', 'Square': 'Yellow', 'tokenId': 1}, {'Background': 'Cantaloupe', 'Triangle': 'Yellow', 'Circle': 'Red', 'Square': 'Orange', 'tokenId': 2}, {'Background': 'Silver', 'Triangle': 'Red', 'Circle': 'Orange', 'Square': 'Blue', 'tokenId': 3}, {'Background': 'Silver', 'Triangle': 'Red', 'Circle': 'Green', 'Square': 'Yellow', 'tokenId': 4}, {'Background': 'Silver', 'Triangle': 'Red', 'Circle': 'Yellow', 'Square': 'Yellow', 'tokenId': 5}, {'Background': 'Salmon', 'Triangle': 'Green', 'Circle': 'Red', 'Square': 'Orange', 'tokenId': 6}, {'Background': 'Silver', 'Triangle': 'Red', 'Circle': 'Orange', 'Square': 'Orange', 'tokenId': 7}, {'Background': 'Silver', 'Triangle': 'Red', 'Circle': 'Orange', 'Square': 'Green', 'tokenId': 8}, {'Background': 'Mocha', 'Triangle': 'Yellow', 'Circle': 'Orange', 'Square': 'Red', 'tokenId': 9}, {'Background': 'Salmon', 'Triangle': 'Green', 'Circle': 'Red', 'Square': 'Yellow', 'tokenId': 10}, {'Background': 'Cantaloupe', 'Triangle': 'Yellow', 'Circle': 'Green', 'Square': 'Orange', 'tokenId': 11}, {'Background': 'Silver', 'Triangle': 'Blue', 'Circle': 'Orange', 'Square': 'Yellow', 'tokenId': 12}, {'Background': 'Silver', 'Triangle': 'Yellow', 'Circle': 'Red', 'Square': 'Red', 'tokenId': 13}, {'Background': 'Salmon', 'Triangle': 'Orange', 'Circle': 'Red', 'Square': 'Orange', 'tokenId': 14}, {'Background': 'Silver', 'Triangle': 'Orange', 'Circle': 'Red', 'Square': 'Yellow', 'tokenId': 15}, {'Background': 'Silver', 'Triangle': 'Red', 'Circle': 'Orange', 'Square': 'Yellow', 'tokenId': 16}, {'Background': 'Mocha', 'Triangle': 'Red', 'Circle': 'Blue', 'Square': 'Yellow', 'tokenId': 17}, {'Background': 'Teal', 'Triangle': 'Green', 'Circle': 'Orange', 'Square': 'Green', 'tokenId': 18}, {'Background': 'Cantaloupe', 'Triangle': 'Green', 'Circle': 'Red', 'Square': 'Yellow', 'tokenId': 19}, {'Background': 'Silver', 'Triangle': 'Green', 'Circle': 'Red', 'Square': 'Green', 'tokenId': 20}, {'Background': 'Cantaloupe', 'Triangle': 'Red', 'Circle': 'Red', 'Square': 'Red', 'tokenId': 21}, {'Background': 'Silver', 'Triangle': 'Red', 'Circle': 'Green', 'Square': 'Orange', 'tokenId': 22}, {'Background': 'Salmon', 'Triangle': 'Red', 'Circle': 'Orange', 'Square': 'Green', 'tokenId': 23}, {'Background': 'Silver', 'Triangle': 'Orange', 'Circle': 'Red', 'Square': 'Red', 'tokenId': 24}, {'Background': 'Salmon', 'Triangle': 'Green', 'Circle': 'Blue', 'Square': 'Orange', 'tokenId': 25}, {'Background': 'Salmon', 'Triangle': 'Blue', 'Circle': 'Yellow', 'Square': 'Red', 'tokenId': 26}, {'Background': 'Salmon', 'Triangle': 'Red', 'Circle': 'Orange', 'Square': 'Red', 'tokenId': 27}, {'Background': 'Salmon', 'Triangle': 'Orange', 'Circle': 'Orange', 'Square': 'Red', 'tokenId': 28}, {'Background': 'Silver', 'Triangle': 'Yellow', 'Circle': 'Red', 'Square': 'Yellow', 'tokenId': 29}, {'Background': 'Silver', 'Triangle': 'Red', 'Circle': 'Red', 'Square': 'Red', 'tokenId': 30}, {'Background': 'Salmon', 'Triangle': 'Red', 'Circle': 'Yellow', 'Square': 'Red', 'tokenId': 31}, {'Background': 'Cantaloupe', 'Triangle': 'Orange', 'Circle': 'Red', 'Square': 'Red', 'tokenId': 32}, {'Background': 'Cantaloupe', 'Triangle': 'Green', 'Circle': 'Yellow', 'Square': 'Orange', 'tokenId': 33}, {'Background': 'Cantaloupe', 'Triangle': 'Red', 'Circle': 'Green', 'Square': 'Green', 'tokenId': 34}, {'Background': 'Silver', 'Triangle': 'Green', 'Circle': 'Red', 'Square': 'Red', 'tokenId': 35}, {'Background': 'Mocha', 'Triangle': 'Red', 'Circle': 'Red', 'Square': 'Orange', 'tokenId': 36}, {'Background': 'Silver', 'Triangle': 'Green', 'Circle': 'Red', 'Square': 'Orange', 'tokenId': 37}, {'Background': 'Silver', 'Triangle': 'Green', 'Circle': 'Blue', 'Square': 'Orange', 'tokenId': 38}, {'Background': 'Salmon', 'Triangle': 'Yellow', 'Circle': 'Red', 'Square': 'Green', 'tokenId': 39}, {'Background': 'Salmon', 'Triangle': 'Green', 'Circle': 'Orange', 'Square': 'Yellow', 'tokenId': 40}, {'Background': 'Cantaloupe', 'Triangle': 'Orange', 'Circle': 'Orange', 'Square': 'Green', 'tokenId': 41}, {'Background': 'Mocha', 'Triangle': 'Red', 'Circle': 'Orange', 'Square': 'Orange', 'tokenId': 42}, {'Background': 'Silver', 'Triangle': 'Red', 'Circle': 'Yellow', 'Square': 'Orange', 'tokenId': 43}, {'Background': 'Salmon', 'Triangle': 'Red', 'Circle': 'Yellow', 'Square': 'Orange', 'tokenId': 44}, {'Background': 'Teal', 'Triangle': 'Blue', 'Circle': 'Green', 'Square': 'Red', 'tokenId': 45}, {'Background': 'Silver', 'Triangle': 'Yellow', 'Circle': 'Red', 'Square': 'Orange', 'tokenId': 46}, {'Background': 'Silver', 'Triangle': 'Red', 'Circle': 'Blue', 'Square': 'Orange', 'tokenId': 47}, {'Background': 'Mocha', 'Triangle': 'Blue', 'Circle': 'Red', 'Square': 'Yellow', 'tokenId': 48}, {'Background': 'Mocha', 'Triangle': 'Orange', 'Circle': 'Green', 'Square': 'Yellow', 'tokenId': 49}]\n"
          ]
        }
      ]
    },
    {
      "cell_type": "code",
      "source": [
        "print(*all_images, sep = \"\\n\")"
      ],
      "metadata": {
        "colab": {
          "base_uri": "https://localhost:8080/"
        },
        "id": "N7co4NfneFOj",
        "outputId": "6ffc75ee-0414-4e25-a0cc-ff4d57585ea7"
      },
      "execution_count": null,
      "outputs": [
        {
          "output_type": "stream",
          "name": "stdout",
          "text": [
            "{'Background': 'Silver', 'Triangle': 'Red', 'Circle': 'Orange', 'Square': 'Red', 'tokenId': 0}\n",
            "{'Background': 'Salmon', 'Triangle': 'Orange', 'Circle': 'Orange', 'Square': 'Green', 'tokenId': 1}\n",
            "{'Background': 'Salmon', 'Triangle': 'Yellow', 'Circle': 'Orange', 'Square': 'Orange', 'tokenId': 2}\n",
            "{'Background': 'Salmon', 'Triangle': 'Orange', 'Circle': 'Orange', 'Square': 'Red', 'tokenId': 3}\n",
            "{'Background': 'Salmon', 'Triangle': 'Yellow', 'Circle': 'Green', 'Square': 'Green', 'tokenId': 4}\n",
            "{'Background': 'Mocha', 'Triangle': 'Red', 'Circle': 'Red', 'Square': 'Green', 'tokenId': 5}\n",
            "{'Background': 'Salmon', 'Triangle': 'Green', 'Circle': 'Red', 'Square': 'Red', 'tokenId': 6}\n",
            "{'Background': 'Silver', 'Triangle': 'Orange', 'Circle': 'Red', 'Square': 'Green', 'tokenId': 7}\n",
            "{'Background': 'Salmon', 'Triangle': 'Red', 'Circle': 'Red', 'Square': 'Red', 'tokenId': 8}\n",
            "{'Background': 'Silver', 'Triangle': 'Red', 'Circle': 'Green', 'Square': 'Blue', 'tokenId': 9}\n",
            "{'Background': 'Silver', 'Triangle': 'Orange', 'Circle': 'Yellow', 'Square': 'Red', 'tokenId': 10}\n",
            "{'Background': 'Salmon', 'Triangle': 'Red', 'Circle': 'Orange', 'Square': 'Yellow', 'tokenId': 11}\n",
            "{'Background': 'Salmon', 'Triangle': 'Orange', 'Circle': 'Red', 'Square': 'Orange', 'tokenId': 12}\n",
            "{'Background': 'Teal', 'Triangle': 'Orange', 'Circle': 'Yellow', 'Square': 'Red', 'tokenId': 13}\n",
            "{'Background': 'Salmon', 'Triangle': 'Green', 'Circle': 'Red', 'Square': 'Orange', 'tokenId': 14}\n",
            "{'Background': 'Mocha', 'Triangle': 'Yellow', 'Circle': 'Orange', 'Square': 'Red', 'tokenId': 15}\n",
            "{'Background': 'Salmon', 'Triangle': 'Red', 'Circle': 'Orange', 'Square': 'Red', 'tokenId': 16}\n",
            "{'Background': 'Silver', 'Triangle': 'Red', 'Circle': 'Yellow', 'Square': 'Red', 'tokenId': 17}\n",
            "{'Background': 'Silver', 'Triangle': 'Orange', 'Circle': 'Green', 'Square': 'Orange', 'tokenId': 18}\n",
            "{'Background': 'Mocha', 'Triangle': 'Red', 'Circle': 'Orange', 'Square': 'Yellow', 'tokenId': 19}\n",
            "{'Background': 'Silver', 'Triangle': 'Red', 'Circle': 'Orange', 'Square': 'Green', 'tokenId': 20}\n",
            "{'Background': 'Salmon', 'Triangle': 'Green', 'Circle': 'Orange', 'Square': 'Red', 'tokenId': 21}\n",
            "{'Background': 'Silver', 'Triangle': 'Green', 'Circle': 'Orange', 'Square': 'Orange', 'tokenId': 22}\n",
            "{'Background': 'Mocha', 'Triangle': 'Red', 'Circle': 'Yellow', 'Square': 'Orange', 'tokenId': 23}\n",
            "{'Background': 'Mocha', 'Triangle': 'Orange', 'Circle': 'Red', 'Square': 'Red', 'tokenId': 24}\n",
            "{'Background': 'Silver', 'Triangle': 'Yellow', 'Circle': 'Red', 'Square': 'Green', 'tokenId': 25}\n",
            "{'Background': 'Salmon', 'Triangle': 'Yellow', 'Circle': 'Red', 'Square': 'Red', 'tokenId': 26}\n",
            "{'Background': 'Mocha', 'Triangle': 'Green', 'Circle': 'Red', 'Square': 'Green', 'tokenId': 27}\n",
            "{'Background': 'Silver', 'Triangle': 'Orange', 'Circle': 'Red', 'Square': 'Red', 'tokenId': 28}\n",
            "{'Background': 'Cantaloupe', 'Triangle': 'Red', 'Circle': 'Orange', 'Square': 'Orange', 'tokenId': 29}\n",
            "{'Background': 'Cantaloupe', 'Triangle': 'Red', 'Circle': 'Blue', 'Square': 'Red', 'tokenId': 30}\n",
            "{'Background': 'Silver', 'Triangle': 'Orange', 'Circle': 'Red', 'Square': 'Orange', 'tokenId': 31}\n",
            "{'Background': 'Salmon', 'Triangle': 'Red', 'Circle': 'Red', 'Square': 'Orange', 'tokenId': 32}\n",
            "{'Background': 'Silver', 'Triangle': 'Orange', 'Circle': 'Red', 'Square': 'Yellow', 'tokenId': 33}\n",
            "{'Background': 'Silver', 'Triangle': 'Red', 'Circle': 'Red', 'Square': 'Orange', 'tokenId': 34}\n",
            "{'Background': 'Cantaloupe', 'Triangle': 'Red', 'Circle': 'Green', 'Square': 'Yellow', 'tokenId': 35}\n",
            "{'Background': 'Mocha', 'Triangle': 'Green', 'Circle': 'Red', 'Square': 'Red', 'tokenId': 36}\n",
            "{'Background': 'Cantaloupe', 'Triangle': 'Green', 'Circle': 'Orange', 'Square': 'Green', 'tokenId': 37}\n",
            "{'Background': 'Salmon', 'Triangle': 'Orange', 'Circle': 'Red', 'Square': 'Red', 'tokenId': 38}\n",
            "{'Background': 'Silver', 'Triangle': 'Red', 'Circle': 'Yellow', 'Square': 'Orange', 'tokenId': 39}\n",
            "{'Background': 'Silver', 'Triangle': 'Red', 'Circle': 'Red', 'Square': 'Red', 'tokenId': 40}\n",
            "{'Background': 'Teal', 'Triangle': 'Red', 'Circle': 'Red', 'Square': 'Red', 'tokenId': 41}\n",
            "{'Background': 'Salmon', 'Triangle': 'Yellow', 'Circle': 'Yellow', 'Square': 'Orange', 'tokenId': 42}\n",
            "{'Background': 'Mocha', 'Triangle': 'Orange', 'Circle': 'Orange', 'Square': 'Red', 'tokenId': 43}\n",
            "{'Background': 'Silver', 'Triangle': 'Red', 'Circle': 'Green', 'Square': 'Green', 'tokenId': 44}\n",
            "{'Background': 'Cantaloupe', 'Triangle': 'Red', 'Circle': 'Red', 'Square': 'Orange', 'tokenId': 45}\n",
            "{'Background': 'Silver', 'Triangle': 'Red', 'Circle': 'Red', 'Square': 'Yellow', 'tokenId': 46}\n",
            "{'Background': 'Silver', 'Triangle': 'Yellow', 'Circle': 'Yellow', 'Square': 'Yellow', 'tokenId': 47}\n",
            "{'Background': 'Cantaloupe', 'Triangle': 'Red', 'Circle': 'Yellow', 'Square': 'Orange', 'tokenId': 48}\n",
            "{'Background': 'Silver', 'Triangle': 'Yellow', 'Circle': 'Red', 'Square': 'Red', 'tokenId': 49}\n"
          ]
        }
      ]
    },
    {
      "cell_type": "code",
      "source": [
        "# Get Trait Counts\n",
        "\n",
        "background_count = {}\n",
        "for item in background:\n",
        "    background_count[item] = 0\n",
        "\n",
        "triangle_count = {}\n",
        "for item in triangle:\n",
        "    triangle_count[item] = 0\n",
        "    \n",
        "circle_count = {}\n",
        "for item in circle:\n",
        "    circle_count[item] = 0\n",
        "\n",
        "square_count = {}\n",
        "for item in square:\n",
        "    square_count[item] = 0\n",
        "\n",
        "for image in all_images:\n",
        "    background_count[image[\"Background\"]] += 1\n",
        "    triangle_count[image[\"Triangle\"]] += 1\n",
        "    circle_count[image[\"Circle\"]] += 1\n",
        "    square_count[image[\"Square\"]] += 1\n",
        "    \n",
        "print(background_count)\n",
        "print(triangle_count)\n",
        "print(circle_count)\n",
        "print(square_count)"
      ],
      "metadata": {
        "colab": {
          "base_uri": "https://localhost:8080/"
        },
        "id": "5bp0DMWUujKx",
        "outputId": "993afc8a-0ef6-4ad2-f8a7-15f02675dce5"
      },
      "execution_count": null,
      "outputs": [
        {
          "output_type": "stream",
          "name": "stdout",
          "text": [
            "{'Silver': 19, 'Salmon': 15, 'Cantaloupe': 6, 'Mocha': 8, 'Teal': 2}\n",
            "{'Red': 22, 'Orange': 13, 'Yellow': 8, 'Green': 7, 'Blue': 0}\n",
            "{'Red': 22, 'Orange': 14, 'Yellow': 8, 'Green': 5, 'Blue': 1}\n",
            "{'Red': 20, 'Orange': 14, 'Yellow': 6, 'Green': 9, 'Blue': 1}\n"
          ]
        }
      ]
    },
    {
      "cell_type": "code",
      "source": [
        "#### Generate Metadata for all Traits \n",
        "METADATA_FILE_NAME = '/content/drive/MyDrive/nft-image-generator-main/metadata/all-traits.json'; \n",
        "with open(METADATA_FILE_NAME, 'w') as outfile:\n",
        "    json.dump(all_images, outfile, indent=4)"
      ],
      "metadata": {
        "id": "z2PiVVFjum1n"
      },
      "execution_count": null,
      "outputs": []
    },
    {
      "cell_type": "code",
      "source": [
        "import os\n",
        "os.mkdir(\"/content/images/\")\n"
      ],
      "metadata": {
        "id": "lF0Y4lAlwo1p"
      },
      "execution_count": null,
      "outputs": []
    },
    {
      "cell_type": "code",
      "source": [
        "  \n",
        "    \n",
        "#### Generate Images    \n",
        "for item in all_images:\n",
        "\n",
        "    im1 = Image.open(f'/content/NFT_tutorial_python/nft_raw_images/backgrounds/{background_files[item[\"Background\"]]}.png').convert('RGBA')\n",
        "    im2 = Image.open(f'/content/NFT_tutorial_python/nft_raw_images/triangles/{triangle_files[item[\"Triangle\"]]}.png').convert('RGBA')\n",
        "    im3 = Image.open(f'/content/NFT_tutorial_python/nft_raw_images/circles/{circle_files[item[\"Circle\"]]}.png').convert('RGBA')\n",
        "    im4 = Image.open(f'/content/NFT_tutorial_python/nft_raw_images/squares/{square_files[item[\"Square\"]]}.png').convert('RGBA')\n",
        "\n",
        "    #Create each composite\n",
        "    com1 = Image.alpha_composite(im1, im2)\n",
        "    com2 = Image.alpha_composite(com1, im3)\n",
        "    com3 = Image.alpha_composite(com2, im4)\n",
        "\n",
        "    #Convert to RGB\n",
        "    rgb_im = com3.convert('RGB')\n",
        "    file_name = str(item[\"tokenId\"]) + \".png\"\n",
        "    rgb_im.save(\"/content/images/\" + file_name)\n",
        "    \n",
        "    \n",
        "    "
      ],
      "metadata": {
        "id": "5tLYC_d9vCz5"
      },
      "execution_count": null,
      "outputs": []
    },
    {
      "cell_type": "code",
      "source": [
        "from google.colab import files\n",
        "!zip -r /content/nft_images.zip /content/images/\n",
        "files.download(\"/content/nft_images.zip\")"
      ],
      "metadata": {
        "colab": {
          "base_uri": "https://localhost:8080/",
          "height": 902
        },
        "id": "NLa9pkT3CSMG",
        "outputId": "ce9cab6d-eeae-4f55-a154-1a6e292f5206"
      },
      "execution_count": null,
      "outputs": [
        {
          "output_type": "stream",
          "name": "stdout",
          "text": [
            "  adding: content/images/ (stored 0%)\n",
            "  adding: content/images/27.png (deflated 22%)\n",
            "  adding: content/images/33.png (deflated 21%)\n",
            "  adding: content/images/44.png (deflated 21%)\n",
            "  adding: content/images/22.png (deflated 20%)\n",
            "  adding: content/images/31.png (deflated 21%)\n",
            "  adding: content/images/45.png (deflated 23%)\n",
            "  adding: content/images/26.png (deflated 23%)\n",
            "  adding: content/images/34.png (deflated 24%)\n",
            "  adding: content/images/17.png (deflated 21%)\n",
            "  adding: content/images/7.png (deflated 21%)\n",
            "  adding: content/images/9.png (deflated 21%)\n",
            "  adding: content/images/39.png (deflated 21%)\n",
            "  adding: content/images/41.png (deflated 23%)\n",
            "  adding: content/images/5.png (deflated 23%)\n",
            "  adding: content/images/30.png (deflated 20%)\n",
            "  adding: content/images/35.png (deflated 20%)\n",
            "  adding: content/images/11.png (deflated 20%)\n",
            "  adding: content/images/47.png (deflated 21%)\n",
            "  adding: content/images/20.png (deflated 21%)\n",
            "  adding: content/images/3.png (deflated 19%)\n",
            "  adding: content/images/18.png (deflated 19%)\n",
            "  adding: content/images/36.png (deflated 22%)\n",
            "  adding: content/images/43.png (deflated 19%)\n",
            "  adding: content/images/1.png (deflated 19%)\n",
            "  adding: content/images/23.png (deflated 20%)\n",
            "  adding: content/images/29.png (deflated 20%)\n",
            "  adding: content/images/12.png (deflated 22%)\n",
            "  adding: content/images/16.png (deflated 20%)\n",
            "  adding: content/images/4.png (deflated 19%)\n",
            "  adding: content/images/10.png (deflated 19%)\n",
            "  adding: content/images/37.png (deflated 20%)\n",
            "  adding: content/images/2.png (deflated 20%)\n",
            "  adding: content/images/40.png (deflated 24%)\n",
            "  adding: content/images/32.png (deflated 23%)\n",
            "  adding: content/images/28.png (deflated 21%)\n",
            "  adding: content/images/25.png (deflated 23%)\n",
            "  adding: content/images/42.png (deflated 20%)\n",
            "  adding: content/images/21.png (deflated 19%)\n",
            "  adding: content/images/0.png (deflated 21%)\n",
            "  adding: content/images/38.png (deflated 22%)\n",
            "  adding: content/images/15.png (deflated 20%)\n",
            "  adding: content/images/46.png (deflated 24%)\n",
            "  adding: content/images/49.png (deflated 24%)\n",
            "  adding: content/images/13.png (deflated 19%)\n",
            "  adding: content/images/48.png (deflated 21%)\n",
            "  adding: content/images/19.png (deflated 20%)\n",
            "  adding: content/images/14.png (deflated 23%)\n",
            "  adding: content/images/8.png (deflated 23%)\n",
            "  adding: content/images/6.png (deflated 23%)\n",
            "  adding: content/images/24.png (deflated 22%)\n"
          ]
        },
        {
          "output_type": "display_data",
          "data": {
            "application/javascript": [
              "\n",
              "    async function download(id, filename, size) {\n",
              "      if (!google.colab.kernel.accessAllowed) {\n",
              "        return;\n",
              "      }\n",
              "      const div = document.createElement('div');\n",
              "      const label = document.createElement('label');\n",
              "      label.textContent = `Downloading \"${filename}\": `;\n",
              "      div.appendChild(label);\n",
              "      const progress = document.createElement('progress');\n",
              "      progress.max = size;\n",
              "      div.appendChild(progress);\n",
              "      document.body.appendChild(div);\n",
              "\n",
              "      const buffers = [];\n",
              "      let downloaded = 0;\n",
              "\n",
              "      const channel = await google.colab.kernel.comms.open(id);\n",
              "      // Send a message to notify the kernel that we're ready.\n",
              "      channel.send({})\n",
              "\n",
              "      for await (const message of channel.messages) {\n",
              "        // Send a message to notify the kernel that we're ready.\n",
              "        channel.send({})\n",
              "        if (message.buffers) {\n",
              "          for (const buffer of message.buffers) {\n",
              "            buffers.push(buffer);\n",
              "            downloaded += buffer.byteLength;\n",
              "            progress.value = downloaded;\n",
              "          }\n",
              "        }\n",
              "      }\n",
              "      const blob = new Blob(buffers, {type: 'application/binary'});\n",
              "      const a = document.createElement('a');\n",
              "      a.href = window.URL.createObjectURL(blob);\n",
              "      a.download = filename;\n",
              "      div.appendChild(a);\n",
              "      a.click();\n",
              "      div.remove();\n",
              "    }\n",
              "  "
            ],
            "text/plain": [
              "<IPython.core.display.Javascript object>"
            ]
          },
          "metadata": {}
        },
        {
          "output_type": "display_data",
          "data": {
            "application/javascript": [
              "download(\"download_35797681-6f5b-44fd-a9fb-7aeb89df1478\", \"nft_images.zip\", 1839070)"
            ],
            "text/plain": [
              "<IPython.core.display.Javascript object>"
            ]
          },
          "metadata": {}
        }
      ]
    },
    {
      "cell_type": "code",
      "source": [
        "#### Generate Metadata for each Image    \n",
        "\n",
        "f = open('/content/drive/MyDrive/nft-image-generator-main/metadata/all-traits.json',) \n",
        "data = json.load(f)\n",
        "\n",
        "\n",
        "IMAGES_BASE_URI = \"ADD_IMAGES_BASE_URI_HERE\"\n",
        "PROJECT_NAME = \"ADD_PROJECT_NAME_HERE\"\n",
        "\n",
        "def getAttribute(key, value):\n",
        "    return {\n",
        "        \"trait_type\": key,\n",
        "        \"value\": value\n",
        "    }\n",
        "for i in data:\n",
        "    token_id = i['tokenId']\n",
        "    token = {\n",
        "        \"image\": IMAGES_BASE_URI + str(token_id) + '.png',\n",
        "        \"tokenId\": token_id,\n",
        "        \"name\": PROJECT_NAME + ' ' + str(token_id),\n",
        "        \"attributes\": []\n",
        "    }\n",
        "    token[\"attributes\"].append(getAttribute(\"Background\", i[\"Background\"]))\n",
        "    token[\"attributes\"].append(getAttribute(\"Circle\", i[\"Circle\"]))\n",
        "    token[\"attributes\"].append(getAttribute(\"Square\", i[\"Square\"]))\n",
        "\n",
        "    with open('/content/drive/MyDrive/nft-image-generator-main/metadata/' + str(token_id), 'w') as outfile:\n",
        "        json.dump(token, outfile, indent=4)\n",
        "f.close()"
      ],
      "metadata": {
        "id": "ov602bi3sAvl"
      },
      "execution_count": null,
      "outputs": []
    },
    {
      "cell_type": "markdown",
      "source": [
        "#Collage"
      ],
      "metadata": {
        "id": "kfQS7sf_O8Sd"
      }
    },
    {
      "cell_type": "code",
      "source": [
        "from PIL import Image, ImageDraw\n",
        "from random import randint\n",
        "import random\n",
        "\n",
        "collage = Image.new(\"RGBA\", (2500,1500), color=(255,255,255,255))\n",
        "\n",
        "max = 50\n",
        "l = list(range(0, max))  \n",
        "random.shuffle(l)\n",
        "\n",
        "c=0\n",
        "\n",
        "for i in range(0,2500,500):\n",
        "    for j in range(0,1500,500):\n",
        "        file = \"/content/images/\"+str(l[c])+\".png\"\n",
        "        photo = Image.open(file).convert(\"RGBA\")\n",
        "        photo = photo.resize((500,500))        \n",
        "        \n",
        "        collage.paste(photo, (i,j))\n",
        "        c+=1\n",
        "        \n",
        "#collage.show()\n",
        "#os.mkdir(\"/content/collage/\")\n",
        "collage.save(\"/content/collage/collage.png\")"
      ],
      "metadata": {
        "id": "HXznHJk-O9yg"
      },
      "execution_count": null,
      "outputs": []
    },
    {
      "cell_type": "code",
      "source": [
        "max = 50\n",
        "l = list(range(0, max))  \n",
        "random.shuffle(l)\n",
        "print(len(l))"
      ],
      "metadata": {
        "colab": {
          "base_uri": "https://localhost:8080/"
        },
        "id": "SiwF7BWGRci6",
        "outputId": "9d9ddc5f-b2a0-49df-8257-5d800ceef388"
      },
      "execution_count": null,
      "outputs": [
        {
          "output_type": "stream",
          "name": "stdout",
          "text": [
            "50\n"
          ]
        }
      ]
    },
    {
      "cell_type": "code",
      "source": [
        ""
      ],
      "metadata": {
        "id": "OsVt4caZSuRy"
      },
      "execution_count": null,
      "outputs": []
    }
  ]
}