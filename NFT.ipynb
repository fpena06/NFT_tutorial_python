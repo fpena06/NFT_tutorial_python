{
  "nbformat": 4,
  "nbformat_minor": 0,
  "metadata": {
    "colab": {
      "name": "NFT.ipynb",
      "provenance": [],
      "mount_file_id": "1X7txLZtVxRwDhABD29nCS_2LiVBOig-K",
      "authorship_tag": "ABX9TyMrkfrHX10kR+mbuxg2CY0i",
      "include_colab_link": true
    },
    "kernelspec": {
      "name": "python3",
      "display_name": "Python 3"
    },
    "language_info": {
      "name": "python"
    }
  },
  "cells": [
    {
      "cell_type": "markdown",
      "metadata": {
        "id": "view-in-github",
        "colab_type": "text"
      },
      "source": [
        "<a href=\"https://colab.research.google.com/github/jackty9/NFT_tutorial_python/blob/main/NFT.ipynb\" target=\"_parent\"><img src=\"https://colab.research.google.com/assets/colab-badge.svg\" alt=\"Open In Colab\"/></a>"
      ]
    },
    {
      "cell_type": "code",
      "execution_count": 1,
      "metadata": {
        "id": "EH0xJ-yrRyiw"
      },
      "outputs": [],
      "source": [
        "from PIL import Image \n",
        "from IPython.display import display \n",
        "import random\n",
        "import json"
      ]
    },
    {
      "cell_type": "code",
      "source": [
        "!git clone https://github.com/jackty9/NFT_tutorial_python.git"
      ],
      "metadata": {
        "colab": {
          "base_uri": "https://localhost:8080/"
        },
        "id": "M08lkUAq2yLG",
        "outputId": "c19cfc41-a521-4737-ec2f-006e2a2fccf1"
      },
      "execution_count": 14,
      "outputs": [
        {
          "output_type": "stream",
          "name": "stdout",
          "text": [
            "Cloning into 'nft_raw_images'...\n",
            "fatal: repository 'https://github.com/jackty9/NFT_tutorial_python/tree/main/nft_raw_images/' not found\n"
          ]
        }
      ]
    },
    {
      "cell_type": "code",
      "source": [
        "# Each image is made up a series of traits\n",
        "# The weitages for each trait distribute the rarity and add up to 100%\n",
        "\n",
        "background = [\"Silver\", \"Salmon\", \"Cantaloupe\", \"Mocha\", \"Teal\"] \n",
        "background_weights = [40, 30, 15, 10, 5]\n",
        "\n",
        "triangle = [\"Red\", \"Orange\", \"Yellow\", \"Green\", \"Blue\"] \n",
        "triangle_weights = [40, 30, 15, 10, 5]\n",
        "\n",
        "circle = [\"Red\", \"Orange\", \"Yellow\", \"Green\", \"Blue\"] \n",
        "circle_weights = [40, 30, 15, 10, 5]\n",
        "\n",
        "square = [\"Red\", \"Orange\", \"Yellow\", \"Green\", \"Blue\"] \n",
        "square_weights = [40, 30, 15, 10, 5]\n",
        "\n",
        "# Dictionary variable for each trait. \n",
        "# Each trait corresponds to its file name (in github)\n",
        "\n",
        "background_files = {\n",
        "    \"Silver\": \"background-silver\",\n",
        "    \"Salmon\": \"background-salmon\",\n",
        "    \"Cantaloupe\": \"background-cantaloupe\",\n",
        "    \"Teal\": \"background-teal\",\n",
        "    \"Mocha\": \"background-mocha\",\n",
        "}\n",
        "\n",
        "triangle_files = {\n",
        "    \"Red\": \"triangle-red\",\n",
        "    \"Orange\": \"triangle-orange\",\n",
        "    \"Yellow\": \"triangle-yellow\",\n",
        "    \"Green\": \"triangle-green\",\n",
        "    \"Blue\": \"triangle-blue\",\n",
        "}\n",
        "circle_files = {\n",
        "    \"Blue\": \"blue-circle\",\n",
        "    \"Green\": \"green-circle\",\n",
        "    \"Orange\": \"orange-circle\",\n",
        "    \"Red\": \"red-circle\",\n",
        "    \"Yellow\": \"yellow-circle\"   \n",
        "}\n",
        "\n",
        "square_files = {\n",
        "    \"Blue\": \"blue-square\",\n",
        "    \"Green\": \"green-square\",\n",
        "    \"Orange\": \"orange-square\",\n",
        "    \"Red\": \"red-square\",\n",
        "    \"Yellow\": \"yellow-square\"  \n",
        "          \n",
        "}"
      ],
      "metadata": {
        "id": "Jz_hWVm9dniu"
      },
      "execution_count": 2,
      "outputs": []
    },
    {
      "cell_type": "code",
      "source": [
        "## Generate Traits\n",
        "\n",
        "TOTAL_IMAGES = 30 # Number of random unique images we want to generate\n",
        "\n",
        "all_images = [] \n",
        "\n",
        "# A recursive function to generate unique image combinations\n",
        "def create_new_image():\n",
        "    \n",
        "    new_image = {} #\n",
        "\n",
        "    # For each trait category, select a random trait based on the weightings \n",
        "    new_image [\"Background\"] = random.choices(background, background_weights)[0]\n",
        "    new_image [\"Circle\"] = random.choices(circle, circle_weights)[0]\n",
        "    new_image [\"Square\"] = random.choices(square, square_weights)[0]\n",
        "    \n",
        "    if new_image in all_images:\n",
        "        return create_new_image()\n",
        "    else:\n",
        "        return new_image\n",
        "    \n",
        "    \n",
        "# Generate the unique combinations based on trait weightings\n",
        "for i in range(TOTAL_IMAGES): \n",
        "    \n",
        "    new_trait_image = create_new_image()\n",
        "    \n",
        "    all_images.append(new_trait_image)\n",
        "    \n"
      ],
      "metadata": {
        "id": "UKz6egaYdwLq"
      },
      "execution_count": 3,
      "outputs": []
    },
    {
      "cell_type": "code",
      "source": [
        "# Returns true if all images are unique\n",
        "def all_images_unique(all_images):\n",
        "    seen = list()\n",
        "    return not any(i in seen or seen.append(i) for i in all_images)\n",
        "\n",
        "print(\"Are all images unique?\", all_images_unique(all_images))"
      ],
      "metadata": {
        "colab": {
          "base_uri": "https://localhost:8080/"
        },
        "id": "uxNx3Z7ad-rE",
        "outputId": "5d8f82d7-17e1-49c7-d7df-dba2fd744666"
      },
      "execution_count": 4,
      "outputs": [
        {
          "output_type": "stream",
          "name": "stdout",
          "text": [
            "Are all images unique? True\n"
          ]
        }
      ]
    },
    {
      "cell_type": "code",
      "source": [
        "# Add token Id to each image\n",
        "i = 0\n",
        "for item in all_images:\n",
        "    item[\"tokenId\"] = i\n",
        "    i = i + 1"
      ],
      "metadata": {
        "id": "Yx9GmGONeClk"
      },
      "execution_count": 5,
      "outputs": []
    },
    {
      "cell_type": "code",
      "source": [
        "print(all_images)"
      ],
      "metadata": {
        "colab": {
          "base_uri": "https://localhost:8080/"
        },
        "id": "N7co4NfneFOj",
        "outputId": "8bf65890-0559-4dc1-bd00-4a3f10586d8c"
      },
      "execution_count": 6,
      "outputs": [
        {
          "output_type": "stream",
          "name": "stdout",
          "text": [
            "[{'Background': 'Blue', 'Circle': 'Orange', 'Square': 'Blue', 'tokenId': 0}, {'Background': 'Orange', 'Circle': 'Yellow', 'Square': 'Blue', 'tokenId': 1}, {'Background': 'Purple', 'Circle': 'Orange', 'Square': 'Blue', 'tokenId': 2}, {'Background': 'Yellow', 'Circle': 'Green', 'Square': 'Green', 'tokenId': 3}, {'Background': 'Orange', 'Circle': 'Green', 'Square': 'Blue', 'tokenId': 4}, {'Background': 'Blue', 'Circle': 'Green', 'Square': 'Red', 'tokenId': 5}, {'Background': 'Orange', 'Circle': 'Green', 'Square': 'Green', 'tokenId': 6}, {'Background': 'Orange', 'Circle': 'Red', 'Square': 'Green', 'tokenId': 7}, {'Background': 'Blue', 'Circle': 'Orange', 'Square': 'Green', 'tokenId': 8}, {'Background': 'Purple', 'Circle': 'Yellow', 'Square': 'Orange', 'tokenId': 9}, {'Background': 'Orange', 'Circle': 'Orange', 'Square': 'Blue', 'tokenId': 10}, {'Background': 'Orange', 'Circle': 'Yellow', 'Square': 'Orange', 'tokenId': 11}, {'Background': 'Blue', 'Circle': 'Blue', 'Square': 'Blue', 'tokenId': 12}, {'Background': 'Orange', 'Circle': 'Blue', 'Square': 'Blue', 'tokenId': 13}, {'Background': 'Yellow', 'Circle': 'Orange', 'Square': 'Green', 'tokenId': 14}, {'Background': 'Purple', 'Circle': 'Yellow', 'Square': 'Blue', 'tokenId': 15}, {'Background': 'Blue', 'Circle': 'Green', 'Square': 'Green', 'tokenId': 16}, {'Background': 'Red', 'Circle': 'Blue', 'Square': 'Yellow', 'tokenId': 17}, {'Background': 'Orange', 'Circle': 'Blue', 'Square': 'Orange', 'tokenId': 18}, {'Background': 'Purple', 'Circle': 'Green', 'Square': 'Green', 'tokenId': 19}, {'Background': 'Blue', 'Circle': 'Green', 'Square': 'Blue', 'tokenId': 20}, {'Background': 'Yellow', 'Circle': 'Green', 'Square': 'Blue', 'tokenId': 21}, {'Background': 'Red', 'Circle': 'Blue', 'Square': 'Green', 'tokenId': 22}, {'Background': 'Blue', 'Circle': 'Red', 'Square': 'Blue', 'tokenId': 23}, {'Background': 'Orange', 'Circle': 'Green', 'Square': 'Orange', 'tokenId': 24}, {'Background': 'Blue', 'Circle': 'Red', 'Square': 'Green', 'tokenId': 25}, {'Background': 'Blue', 'Circle': 'Yellow', 'Square': 'Blue', 'tokenId': 26}, {'Background': 'Orange', 'Circle': 'Orange', 'Square': 'Orange', 'tokenId': 27}, {'Background': 'Purple', 'Circle': 'Green', 'Square': 'Blue', 'tokenId': 28}, {'Background': 'Yellow', 'Circle': 'Blue', 'Square': 'Yellow', 'tokenId': 29}]\n"
          ]
        }
      ]
    },
    {
      "cell_type": "code",
      "source": [
        "# Get Trait Counts\n",
        "\n",
        "background_count = {}\n",
        "for item in background:\n",
        "    background_count[item] = 0\n",
        "    \n",
        "circle_count = {}\n",
        "for item in circle:\n",
        "    circle_count[item] = 0\n",
        "\n",
        "square_count = {}\n",
        "for item in square:\n",
        "    square_count[item] = 0\n",
        "\n",
        "for image in all_images:\n",
        "    background_count[image[\"Background\"]] += 1\n",
        "    circle_count[image[\"Circle\"]] += 1\n",
        "    square_count[image[\"Square\"]] += 1\n",
        "    \n",
        "print(background_count)\n",
        "print(circle_count)\n",
        "print(square_count)"
      ],
      "metadata": {
        "colab": {
          "base_uri": "https://localhost:8080/"
        },
        "id": "5bp0DMWUujKx",
        "outputId": "5fd56947-767b-460e-94e4-375240acdcc6"
      },
      "execution_count": 7,
      "outputs": [
        {
          "output_type": "stream",
          "name": "stdout",
          "text": [
            "{'Blue': 9, 'Orange': 10, 'Purple': 5, 'Red': 2, 'Yellow': 4}\n",
            "{'Blue': 6, 'Green': 10, 'Orange': 6, 'Red': 3, 'Yellow': 5}\n",
            "{'Blue': 13, 'Green': 9, 'Orange': 5, 'Red': 1, 'Yellow': 2}\n"
          ]
        }
      ]
    },
    {
      "cell_type": "code",
      "source": [
        "#### Generate Metadata for all Traits \n",
        "METADATA_FILE_NAME = '/content/drive/MyDrive/nft-image-generator-main/metadata/all-traits.json'; \n",
        "with open(METADATA_FILE_NAME, 'w') as outfile:\n",
        "    json.dump(all_images, outfile, indent=4)"
      ],
      "metadata": {
        "id": "z2PiVVFjum1n"
      },
      "execution_count": 8,
      "outputs": []
    },
    {
      "cell_type": "code",
      "source": [
        "import os\n",
        "os.mkdir(\"/content/images/\")\n"
      ],
      "metadata": {
        "id": "lF0Y4lAlwo1p"
      },
      "execution_count": 9,
      "outputs": []
    },
    {
      "cell_type": "code",
      "source": [
        "print(background_files)"
      ],
      "metadata": {
        "colab": {
          "base_uri": "https://localhost:8080/"
        },
        "id": "8stDrtmd4unO",
        "outputId": "cceadcee-46a3-4749-c06d-8eba22d7c3cb"
      },
      "execution_count": 10,
      "outputs": [
        {
          "output_type": "stream",
          "name": "stdout",
          "text": [
            "{'Blue': 'blue', 'Orange': 'orange', 'Purple': 'purple', 'Red': 'red', 'Yellow': 'yellow'}\n"
          ]
        }
      ]
    },
    {
      "cell_type": "code",
      "source": [
        "  \n",
        "    \n",
        "#### Generate Images    \n",
        "for item in all_images:\n",
        "\n",
        "    im1 = Image.open(f'/content/drive/MyDrive/nft-image-generator-main/trait-layers/backgrounds/{background_files[item[\"Background\"]]}.jpg').convert('RGBA')\n",
        "    im2 = Image.open(f'/content/drive/MyDrive/nft-image-generator-main/trait-layers/circles/{circle_files[item[\"Circle\"]]}.png').convert('RGBA')\n",
        "    im3 = Image.open(f'/content/drive/MyDrive/nft-image-generator-main/trait-layers/squares/{square_files[item[\"Square\"]]}.png').convert('RGBA')\n",
        "\n",
        "    #Create each composite\n",
        "    com1 = Image.alpha_composite(im1, im2)\n",
        "    com2 = Image.alpha_composite(com1, im3)\n",
        "\n",
        "    #Convert to RGB\n",
        "    rgb_im = com2.convert('RGB')\n",
        "    file_name = str(item[\"tokenId\"]) + \".png\"\n",
        "    rgb_im.save(\"/content/images/\" + file_name)\n",
        "    \n",
        "    \n",
        "    "
      ],
      "metadata": {
        "id": "5tLYC_d9vCz5"
      },
      "execution_count": 11,
      "outputs": []
    },
    {
      "cell_type": "code",
      "source": [
        "#### Generate Metadata for each Image    \n",
        "\n",
        "f = open('/content/drive/MyDrive/nft-image-generator-main/metadata/all-traits.json',) \n",
        "data = json.load(f)\n",
        "\n",
        "\n",
        "IMAGES_BASE_URI = \"ADD_IMAGES_BASE_URI_HERE\"\n",
        "PROJECT_NAME = \"ADD_PROJECT_NAME_HERE\"\n",
        "\n",
        "def getAttribute(key, value):\n",
        "    return {\n",
        "        \"trait_type\": key,\n",
        "        \"value\": value\n",
        "    }\n",
        "for i in data:\n",
        "    token_id = i['tokenId']\n",
        "    token = {\n",
        "        \"image\": IMAGES_BASE_URI + str(token_id) + '.png',\n",
        "        \"tokenId\": token_id,\n",
        "        \"name\": PROJECT_NAME + ' ' + str(token_id),\n",
        "        \"attributes\": []\n",
        "    }\n",
        "    token[\"attributes\"].append(getAttribute(\"Background\", i[\"Background\"]))\n",
        "    token[\"attributes\"].append(getAttribute(\"Circle\", i[\"Circle\"]))\n",
        "    token[\"attributes\"].append(getAttribute(\"Square\", i[\"Square\"]))\n",
        "\n",
        "    with open('/content/drive/MyDrive/nft-image-generator-main/metadata/' + str(token_id), 'w') as outfile:\n",
        "        json.dump(token, outfile, indent=4)\n",
        "f.close()"
      ],
      "metadata": {
        "id": "ov602bi3sAvl"
      },
      "execution_count": 12,
      "outputs": []
    }
  ]
}